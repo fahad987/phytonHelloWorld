{
 "cells": [
  {
   "cell_type": "markdown",
   "id": "5dd081e6-4eae-4aa8-ab21-b354cc1b3de1",
   "metadata": {},
   "source": [
    "# Python Basics"
   ]
  },
  {
   "cell_type": "code",
   "execution_count": 2,
   "id": "fcb27a44-399f-4fc9-9ed5-ebde528484b0",
   "metadata": {},
   "outputs": [
    {
     "name": "stdout",
     "output_type": "stream",
     "text": [
      "Fahad\n"
     ]
    }
   ],
   "source": [
    "name = \"Fahad\"\n",
    "print(name)"
   ]
  },
  {
   "cell_type": "code",
   "execution_count": 3,
   "id": "ad1dfa86-7f80-4ade-8584-3f658ec138bc",
   "metadata": {},
   "outputs": [
    {
     "name": "stdout",
     "output_type": "stream",
     "text": [
      "20\n"
     ]
    }
   ],
   "source": [
    "num1 = 10\n",
    "newNum= 10+num1\n",
    "print(newNum)"
   ]
  },
  {
   "cell_type": "code",
   "execution_count": 6,
   "id": "e6bd3807-be43-4642-ad3d-93b9d6e5f259",
   "metadata": {},
   "outputs": [
    {
     "name": "stdout",
     "output_type": "stream",
     "text": [
      "48\n"
     ]
    }
   ],
   "source": [
    "age += 12\n",
    "print(age)"
   ]
  },
  {
   "cell_type": "code",
   "execution_count": 8,
   "id": "690c0763-31e7-4bec-aaa2-fdfda664ae7d",
   "metadata": {},
   "outputs": [
    {
     "name": "stdout",
     "output_type": "stream",
     "text": [
      "48\n"
     ]
    }
   ],
   "source": [
    "print(age)"
   ]
  },
  {
   "cell_type": "code",
   "execution_count": 9,
   "id": "c82b205d-52f0-413b-9f5b-63866a79e7bb",
   "metadata": {},
   "outputs": [
    {
     "name": "stdout",
     "output_type": "stream",
     "text": [
      "15\n"
     ]
    }
   ],
   "source": [
    "basicAge = 12\n",
    "newAge = 3\n",
    "basicAge += newAge\n",
    "print(basicAge)"
   ]
  },
  {
   "cell_type": "markdown",
   "id": "6c5f38f3-2ec1-487d-91f2-b99b2c991591",
   "metadata": {},
   "source": [
    "# Concatenating text strings\n"
   ]
  },
  {
   "cell_type": "code",
   "execution_count": null,
   "id": "8c883030-fd03-4097-8d31-992a89418911",
   "metadata": {},
   "outputs": [],
   "source": []
  }
 ],
 "metadata": {
  "kernelspec": {
   "display_name": "Python [conda env:base] *",
   "language": "python",
   "name": "conda-base-py"
  },
  "language_info": {
   "codemirror_mode": {
    "name": "ipython",
    "version": 3
   },
   "file_extension": ".py",
   "mimetype": "text/x-python",
   "name": "python",
   "nbconvert_exporter": "python",
   "pygments_lexer": "ipython3",
   "version": "3.13.5"
  }
 },
 "nbformat": 4,
 "nbformat_minor": 5
}

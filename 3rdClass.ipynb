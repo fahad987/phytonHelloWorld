{
 "cells": [
  {
   "cell_type": "markdown",
   "id": "38a5b063-da68-458d-83ad-4da226fb3867",
   "metadata": {},
   "source": [
    "# Conditional Statement"
   ]
  },
  {
   "cell_type": "code",
   "execution_count": 1,
   "id": "a30fb43e-824d-4960-ae8c-e7f77ef656de",
   "metadata": {},
   "outputs": [],
   "source": [
    "Barish = True"
   ]
  },
  {
   "cell_type": "code",
   "execution_count": null,
   "id": "ebd47f4e-50e8-4600-87df-cb0f4c80ebe1",
   "metadata": {},
   "outputs": [],
   "source": [
    "if Barish:\n",
    "    print(\"Today is Barish\")\n",
    "else:\n",
    "    print(\"Tomorrow is Barish\")"
   ]
  },
  {
   "cell_type": "raw",
   "id": "bdfd7daa-6135-4989-9c2f-c86db08d0e25",
   "metadata": {},
   "source": []
  }
 ],
 "metadata": {
  "kernelspec": {
   "display_name": "Python [conda env:base] *",
   "language": "python",
   "name": "conda-base-py"
  },
  "language_info": {
   "codemirror_mode": {
    "name": "ipython",
    "version": 3
   },
   "file_extension": ".py",
   "mimetype": "text/x-python",
   "name": "python",
   "nbconvert_exporter": "python",
   "pygments_lexer": "ipython3",
   "version": "3.13.5"
  },
  "widgets": {
   "application/vnd.jupyter.widget-state+json": {
    "state": {},
    "version_major": 2,
    "version_minor": 0
   }
  }
 },
 "nbformat": 4,
 "nbformat_minor": 5
}

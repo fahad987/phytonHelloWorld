{
 "cells": [
  {
   "cell_type": "code",
   "execution_count": 29,
   "id": "551c263d-e0c9-4b6b-9933-a25183317e4c",
   "metadata": {},
   "outputs": [],
   "source": [
    "customers = [\n",
    "    {\n",
    "        \"customer id\": 0,\n",
    "        \"first name\": \"john\",\n",
    "        \"last name\": \"ogden\",\n",
    "        \"address\":\"123 arbor rd\"\n",
    "    },\n",
    "    {\n",
    "        \"customer id\": 1,\n",
    "        \"first name\": \"john Bhai\",\n",
    "        \"last name\": \"ogden hjsga\",\n",
    "        \"address\":\"123 arbor rd1\"\n",
    "    }\n",
    "]\n",
    "\n"
   ]
  },
  {
   "cell_type": "code",
   "execution_count": 30,
   "id": "07313295-5a6c-4e48-aadf-ecf1e950c835",
   "metadata": {},
   "outputs": [
    {
     "name": "stdout",
     "output_type": "stream",
     "text": [
      "[{'customer id': 0, 'first name': 'john', 'last name': 'ogden', 'address': '123 arbor rd'}, {'customer id': 1, 'first name': 'john Bhai', 'last name': 'ogden hjsga', 'address': '123 arbor rd1'}]\n"
     ]
    }
   ],
   "source": [
    "print(customers)"
   ]
  },
  {
   "cell_type": "code",
   "execution_count": 31,
   "id": "75f5e6c7-7a68-4911-995a-ad6851528b80",
   "metadata": {},
   "outputs": [
    {
     "name": "stdout",
     "output_type": "stream",
     "text": [
      "[{'customer id': 0, 'first name': 'john', 'last name': 'ogden', 'address': '123 arbor rd', 'age': None}, {'customer id': 1, 'first name': 'john Bhai', 'last name': 'ogden hjsga', 'address': '123 arbor rd1'}]\n",
      "[{'customer id': 0, 'first name': 'john', 'last name': 'ogden', 'address': '123 arbor rd', 'age': None}, {'customer id': 1, 'first name': 'john Bhai', 'last name': 'ogden hjsga', 'address': '123 arbor rd1', 'age': None}]\n"
     ]
    }
   ],
   "source": [
    "#Task 1 Method 1\n",
    "for customer in customers:\n",
    "    customer[\"age\"] = None\n",
    "    print(customers)"
   ]
  },
  {
   "cell_type": "code",
   "execution_count": 32,
   "id": "e289b76c-cd8b-4ad6-9523-eb2b5cd64bf2",
   "metadata": {},
   "outputs": [
    {
     "name": "stdout",
     "output_type": "stream",
     "text": [
      "[None, None]\n"
     ]
    }
   ],
   "source": [
    "#task 1 method 2 comperhension\n",
    "customers = [customer.setdefault('age') for customer in customers]\n",
    "print (customers)"
   ]
  },
  {
   "cell_type": "code",
   "execution_count": 33,
   "id": "c32de2b5-6f4d-44d6-9fca-30ed20b73b9a",
   "metadata": {},
   "outputs": [
    {
     "ename": "AttributeError",
     "evalue": "'list' object has no attribute 'update'",
     "output_type": "error",
     "traceback": [
      "\u001b[1;31m---------------------------------------------------------------------------\u001b[0m",
      "\u001b[1;31mAttributeError\u001b[0m                            Traceback (most recent call last)",
      "Cell \u001b[1;32mIn[33], line 1\u001b[0m\n\u001b[1;32m----> 1\u001b[0m customers\u001b[38;5;241m.\u001b[39mupdate({\u001b[38;5;124m'\u001b[39m\u001b[38;5;124mage\u001b[39m\u001b[38;5;124m'\u001b[39m, \u001b[38;5;28;01mNone\u001b[39;00m})\n",
      "\u001b[1;31mAttributeError\u001b[0m: 'list' object has no attribute 'update'"
     ]
    }
   ],
   "source": [
    "customers.update({'age', None})"
   ]
  },
  {
   "cell_type": "code",
   "execution_count": 34,
   "id": "a416f8b6-5934-4829-8a08-01a19a70b735",
   "metadata": {},
   "outputs": [
    {
     "ename": "TypeError",
     "evalue": "'NoneType' object is not a mapping",
     "output_type": "error",
     "traceback": [
      "\u001b[1;31m---------------------------------------------------------------------------\u001b[0m",
      "\u001b[1;31mTypeError\u001b[0m                                 Traceback (most recent call last)",
      "Cell \u001b[1;32mIn[34], line 4\u001b[0m\n\u001b[0;32m      1\u001b[0m \u001b[38;5;66;03m#dictinory parse ==> **\u001b[39;00m\n\u001b[0;32m      2\u001b[0m \u001b[38;5;66;03m# list parse ==> *\u001b[39;00m\n\u001b[0;32m      3\u001b[0m \u001b[38;5;28;01mfor\u001b[39;00m customer \u001b[38;5;129;01min\u001b[39;00m customers:\n\u001b[1;32m----> 4\u001b[0m     \u001b[38;5;28mprint\u001b[39m({\u001b[38;5;241m*\u001b[39m\u001b[38;5;241m*\u001b[39mcustomer, \u001b[38;5;124m'\u001b[39m\u001b[38;5;124mage\u001b[39m\u001b[38;5;124m'\u001b[39m :\u001b[38;5;28;01mNone\u001b[39;00m})\n",
      "\u001b[1;31mTypeError\u001b[0m: 'NoneType' object is not a mapping"
     ]
    }
   ],
   "source": [
    "#dictinory parse ==> **\n",
    "# list parse ==> *\n",
    "for customer in customers:\n",
    "    print({**customer, 'age' :None})"
   ]
  },
  {
   "cell_type": "code",
   "execution_count": 35,
   "id": "ccaf7918-dfaf-48f1-80c7-e010cb21e862",
   "metadata": {},
   "outputs": [
    {
     "ename": "AttributeError",
     "evalue": "'NoneType' object has no attribute 'value'",
     "output_type": "error",
     "traceback": [
      "\u001b[1;31m---------------------------------------------------------------------------\u001b[0m",
      "\u001b[1;31mAttributeError\u001b[0m                            Traceback (most recent call last)",
      "Cell \u001b[1;32mIn[35], line 2\u001b[0m\n\u001b[0;32m      1\u001b[0m \u001b[38;5;66;03m# Task 2 method 2\u001b[39;00m\n\u001b[1;32m----> 2\u001b[0m [\u001b[38;5;28mlist\u001b[39m(customer\u001b[38;5;241m.\u001b[39mvalue()) \u001b[38;5;28;01mfor\u001b[39;00m customer \u001b[38;5;129;01min\u001b[39;00m customers]\n",
      "\u001b[1;31mAttributeError\u001b[0m: 'NoneType' object has no attribute 'value'"
     ]
    }
   ],
   "source": [
    "# Task 2 method 2\n",
    "[list(customer.value()) for customer in customers]"
   ]
  },
  {
   "cell_type": "code",
   "execution_count": 13,
   "id": "3db8914e-d39e-4540-994a-741eb5518891",
   "metadata": {},
   "outputs": [
    {
     "name": "stdout",
     "output_type": "stream",
     "text": [
      "{0: {'customer id': 0, 'first name': 'john', 'last name': 'ogden', 'address': '123 arbor rd', 'age': None}}\n"
     ]
    }
   ],
   "source": [
    "#Task 3 Method 1\n",
    "dictOfdict = {}\n",
    "\n",
    "for index, item in enumerate(customers):\n",
    "    dictOfdict[index] = item\n",
    "    \n",
    "    print(dictOfdict)"
   ]
  },
  {
   "cell_type": "code",
   "execution_count": 14,
   "id": "66bde7b6-0d3a-4046-9e5a-f6d40f03baf8",
   "metadata": {},
   "outputs": [
    {
     "name": "stdout",
     "output_type": "stream",
     "text": [
      "{0: {'customer id': 0, 'first name': 'john', 'last name': 'ogden', 'address': '123 arbor rd', 'age': None}}\n"
     ]
    }
   ],
   "source": [
    "dictOfdict = {}\n",
    "\n",
    "for index, item in enumerate(customers):\n",
    "    dictOfdict[index] = item\n",
    "\n",
    "    print(dictOfdict)"
   ]
  },
  {
   "cell_type": "code",
   "execution_count": 25,
   "id": "3769c6c2-b0ca-451c-a12a-b36a67489ac8",
   "metadata": {},
   "outputs": [
    {
     "ename": "AttributeError",
     "evalue": "'NoneType' object has no attribute 'values'",
     "output_type": "error",
     "traceback": [
      "\u001b[1;31m---------------------------------------------------------------------------\u001b[0m",
      "\u001b[1;31mAttributeError\u001b[0m                            Traceback (most recent call last)",
      "Cell \u001b[1;32mIn[25], line 5\u001b[0m\n\u001b[0;32m      2\u001b[0m listOflist \u001b[38;5;241m=\u001b[39m []\n\u001b[0;32m      4\u001b[0m \u001b[38;5;28;01mfor\u001b[39;00m customer \u001b[38;5;129;01min\u001b[39;00m customers:\n\u001b[1;32m----> 5\u001b[0m     listOflist\u001b[38;5;241m.\u001b[39mappend(\u001b[38;5;28mlist\u001b[39m(customer\u001b[38;5;241m.\u001b[39mvalues()))\n\u001b[0;32m      6\u001b[0m \u001b[38;5;28mprint\u001b[39m(listOflist)\n",
      "\u001b[1;31mAttributeError\u001b[0m: 'NoneType' object has no attribute 'values'"
     ]
    }
   ],
   "source": [
    "# Task 2 method 1\n",
    "listOflist = []\n",
    "\n",
    "for customer in customers:\n",
    "    listOflist.append(list(customer.values()))\n",
    "print(listOflist)"
   ]
  },
  {
   "cell_type": "code",
   "execution_count": 20,
   "id": "3f8fce45-bf23-4bef-be7e-5c5f0808fa85",
   "metadata": {},
   "outputs": [
    {
     "ename": "AttributeError",
     "evalue": "'NoneType' object has no attribute 'value'",
     "output_type": "error",
     "traceback": [
      "\u001b[1;31m---------------------------------------------------------------------------\u001b[0m",
      "\u001b[1;31mAttributeError\u001b[0m                            Traceback (most recent call last)",
      "Cell \u001b[1;32mIn[20], line 2\u001b[0m\n\u001b[0;32m      1\u001b[0m \u001b[38;5;66;03m# Task 2 method 2\u001b[39;00m\n\u001b[1;32m----> 2\u001b[0m [\u001b[38;5;28mlist\u001b[39m(customer\u001b[38;5;241m.\u001b[39mvalue()) \u001b[38;5;28;01mfor\u001b[39;00m customer \u001b[38;5;129;01min\u001b[39;00m customers]\n",
      "\u001b[1;31mAttributeError\u001b[0m: 'NoneType' object has no attribute 'value'"
     ]
    }
   ],
   "source": [
    "# Task 2 method 2\n",
    "[list(customer.value()) for customer in customers]"
   ]
  },
  {
   "cell_type": "code",
   "execution_count": 37,
   "id": "e897226d-5f9c-47f6-8246-6c7e9f1ac59d",
   "metadata": {},
   "outputs": [],
   "source": [
    "# Task 2 Method 1\n",
    "for \n",
    "\n"
   ]
  },
  {
   "cell_type": "code",
   "execution_count": null,
   "id": "a1729977-c317-4470-bc3e-e7c2199e8131",
   "metadata": {},
   "outputs": [],
   "source": []
  }
 ],
 "metadata": {
  "kernelspec": {
   "display_name": "Python [conda env:base] *",
   "language": "python",
   "name": "conda-base-py"
  },
  "language_info": {
   "codemirror_mode": {
    "name": "ipython",
    "version": 3
   },
   "file_extension": ".py",
   "mimetype": "text/x-python",
   "name": "python",
   "nbconvert_exporter": "python",
   "pygments_lexer": "ipython3",
   "version": "3.13.5"
  },
  "widgets": {
   "application/vnd.jupyter.widget-state+json": {
    "state": {},
    "version_major": 2,
    "version_minor": 0
   }
  }
 },
 "nbformat": 4,
 "nbformat_minor": 5
}

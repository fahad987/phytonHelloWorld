{
 "cells": [
  {
   "cell_type": "code",
   "execution_count": 5,
   "id": "c527f98c-455c-452c-a7d0-83679a391e4e",
   "metadata": {},
   "outputs": [
    {
     "name": "stdout",
     "output_type": "stream",
     "text": [
      "Hello World\n"
     ]
    }
   ],
   "source": [
    "print(\"Hello World\")"
   ]
  },
  {
   "cell_type": "raw",
   "id": "fc24fcf1-4470-4227-9fcb-c6a4f40f21cf",
   "metadata": {},
   "source": [
    "print(\"Hello\")"
   ]
  },
  {
   "cell_type": "raw",
   "id": "bf598280-ecba-45d2-801a-bd1303cbbf2c",
   "metadata": {},
   "source": [
    "print(\"Pakistan\")"
   ]
  },
  {
   "cell_type": "code",
   "execution_count": 1,
   "id": "93c33c44-3bdc-433e-b5eb-f060d5a68d46",
   "metadata": {},
   "outputs": [],
   "source": [
    "is_ramdan = True"
   ]
  },
  {
   "cell_type": "code",
   "execution_count": 2,
   "id": "12671112-1553-487b-8263-1031884a8937",
   "metadata": {},
   "outputs": [
    {
     "name": "stdout",
     "output_type": "stream",
     "text": [
      "if condition starts...\n"
     ]
    },
    {
     "ename": "NameError",
     "evalue": "name 'is_ramadan' is not defined",
     "output_type": "error",
     "traceback": [
      "\u001b[1;31m---------------------------------------------------------------------------\u001b[0m",
      "\u001b[1;31mNameError\u001b[0m                                 Traceback (most recent call last)",
      "Cell \u001b[1;32mIn[2], line 2\u001b[0m\n\u001b[0;32m      1\u001b[0m \u001b[38;5;28mprint\u001b[39m(\u001b[38;5;124m\"\u001b[39m\u001b[38;5;124mif condition starts...\u001b[39m\u001b[38;5;124m\"\u001b[39m)\n\u001b[1;32m----> 2\u001b[0m \u001b[38;5;28;01mif\u001b[39;00m is_ramadan:\n\u001b[0;32m      3\u001b[0m     \u001b[38;5;28mprint\u001b[39m(\u001b[38;5;124m\"\u001b[39m\u001b[38;5;124mTimings: 10:00am to 1:00pm\u001b[39m\u001b[38;5;124m\"\u001b[39m)\n\u001b[0;32m      4\u001b[0m \u001b[38;5;28;01melse\u001b[39;00m:\n",
      "\u001b[1;31mNameError\u001b[0m: name 'is_ramadan' is not defined"
     ]
    }
   ],
   "source": [
    "print(\"if condition starts...\")\n",
    "if is_ramadan:\n",
    "    print(\"Timings: 10:00am to 1:00pm\")\n",
    "else:\n",
    "    print(\"Timings: 06:00pmto 09:00pm\")\n",
    "    \n",
    "print(\"if condition ends: all ok..\")\n"
   ]
  },
  {
   "cell_type": "code",
   "execution_count": 5,
   "id": "b1c9a987-3c58-4d60-a83e-b5dae3c441e7",
   "metadata": {},
   "outputs": [
    {
     "name": "stdout",
     "output_type": "stream",
     "text": [
      "Pakistan\n"
     ]
    }
   ],
   "source": [
    "print(\"Pakistan\")"
   ]
  },
  {
   "cell_type": "code",
   "execution_count": 6,
   "id": "52ceed8b-a519-4d70-ab4a-60c20d3d014f",
   "metadata": {},
   "outputs": [
    {
     "name": "stdout",
     "output_type": "stream",
     "text": [
      "Pak\n"
     ]
    }
   ],
   "source": [
    "print(\"Pak\")"
   ]
  },
  {
   "cell_type": "code",
   "execution_count": 7,
   "id": "565b0001-7c39-42d6-9989-81a4e7b67ad2",
   "metadata": {},
   "outputs": [
    {
     "name": "stdout",
     "output_type": "stream",
     "text": [
      "Fahad 25\n"
     ]
    }
   ],
   "source": [
    "name = \"Fahad\"\n",
    "age = 25\n",
    "print(name,age)"
   ]
  },
  {
   "cell_type": "code",
   "execution_count": 9,
   "id": "6acad815-13aa-4add-8249-e4135e739689",
   "metadata": {},
   "outputs": [
    {
     "name": "stdout",
     "output_type": "stream",
     "text": [
      "20\n"
     ]
    }
   ],
   "source": [
    "num1 = 10\n",
    "newNum = num1+10\n",
    "print(newNum)\n"
   ]
  },
  {
   "cell_type": "code",
   "execution_count": null,
   "id": "2661308e-7134-4c1e-be0a-c5a1968c37e6",
   "metadata": {},
   "outputs": [],
   "source": []
  }
 ],
 "metadata": {
  "kernelspec": {
   "display_name": "Python [conda env:base] *",
   "language": "python",
   "name": "conda-base-py"
  },
  "language_info": {
   "codemirror_mode": {
    "name": "ipython",
    "version": 3
   },
   "file_extension": ".py",
   "mimetype": "text/x-python",
   "name": "python",
   "nbconvert_exporter": "python",
   "pygments_lexer": "ipython3",
   "version": "3.13.5"
  }
 },
 "nbformat": 4,
 "nbformat_minor": 5
}
